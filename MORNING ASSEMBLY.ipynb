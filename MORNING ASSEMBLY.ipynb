{
 "cells": [
  {
   "cell_type": "code",
   "execution_count": 19,
   "metadata": {},
   "outputs": [],
   "source": [
    "import pandas as pd\n",
    "import pyperclip\n",
    "import json\n",
    "import gspread\n",
    "from oauth2client.service_account import ServiceAccountCredentials\n",
    "from gspread_dataframe import get_as_dataframe, set_with_dataframe"
   ]
  },
  {
   "cell_type": "code",
   "execution_count": 25,
   "metadata": {},
   "outputs": [],
   "source": [
    "scope = ['https://spreadsheets.google.com/feeds',\n",
    "         'https://www.googleapis.com/auth/drive']\n",
    "creds = ServiceAccountCredentials.from_json_keyfile_name('client_secret.json', scope)\n",
    "file = gspread.authorize(creds) \n",
    "\n",
    "sheet = file.open(\"#64\").sheet1\n",
    "\n",
    "# https://stackoverflow.com/questions/49258566/gspread-authentication-throwing-insufficient-permission\n",
    "# https://www.twilio.com/blog/2017/02/an-easy-way-to-read-and-write-to-a-google-spreadsheet-in-python.html\n",
    "# https://towardsdatascience.com/how-to-access-google-sheet-data-using-the-python-api-and-convert-to-pandas-dataframe-5ec020564f0e"
   ]
  },
  {
   "cell_type": "code",
   "execution_count": 32,
   "metadata": {},
   "outputs": [],
   "source": [
    "df = get_as_dataframe(sheet, usecols=[0,1,2,3])\n",
    "df.dropna(how='all', inplace=True)\n",
    "df"
   ]
  },
  {
   "cell_type": "code",
   "execution_count": 34,
   "metadata": {},
   "outputs": [],
   "source": [
    "df.FULL = '<div dir=\"ltr\"><strong><a href=\"'+df.URL+'\">'+df.TITLE+'</a></strong></div><blockquote><div dir=\"ltr\">'+df.QUOTE+'</div></blockquote>'"
   ]
  },
  {
   "cell_type": "code",
   "execution_count": 35,
   "metadata": {
    "scrolled": false
   },
   "outputs": [
    {
     "data": {
      "text/html": [
       "<div>\n",
       "<style scoped>\n",
       "    .dataframe tbody tr th:only-of-type {\n",
       "        vertical-align: middle;\n",
       "    }\n",
       "\n",
       "    .dataframe tbody tr th {\n",
       "        vertical-align: top;\n",
       "    }\n",
       "\n",
       "    .dataframe thead th {\n",
       "        text-align: right;\n",
       "    }\n",
       "</style>\n",
       "<table border=\"1\" class=\"dataframe\">\n",
       "  <thead>\n",
       "    <tr style=\"text-align: right;\">\n",
       "      <th></th>\n",
       "      <th>URL</th>\n",
       "      <th>TITLE</th>\n",
       "      <th>QUOTE</th>\n",
       "      <th>FULL</th>\n",
       "    </tr>\n",
       "  </thead>\n",
       "  <tbody>\n",
       "    <tr>\n",
       "      <th>0</th>\n",
       "      <td>URL_1</td>\n",
       "      <td>TITLE_1</td>\n",
       "      <td>QUOTE_1</td>\n",
       "      <td>&lt;div dir=\"ltr\"&gt;&lt;strong&gt;&lt;a href=\"URL_1\"&gt;TITLE_1...</td>\n",
       "    </tr>\n",
       "    <tr>\n",
       "      <th>1</th>\n",
       "      <td>URL_2</td>\n",
       "      <td>TITLE_2</td>\n",
       "      <td>QUOTE_2</td>\n",
       "      <td>&lt;div dir=\"ltr\"&gt;&lt;strong&gt;&lt;a href=\"URL_2\"&gt;TITLE_2...</td>\n",
       "    </tr>\n",
       "    <tr>\n",
       "      <th>2</th>\n",
       "      <td>URL_3</td>\n",
       "      <td>TITLE_3</td>\n",
       "      <td>QUOTE_3</td>\n",
       "      <td>&lt;div dir=\"ltr\"&gt;&lt;strong&gt;&lt;a href=\"URL_3\"&gt;TITLE_3...</td>\n",
       "    </tr>\n",
       "    <tr>\n",
       "      <th>3</th>\n",
       "      <td>URL_4</td>\n",
       "      <td>TITLE_4</td>\n",
       "      <td>QUOTE_4</td>\n",
       "      <td>&lt;div dir=\"ltr\"&gt;&lt;strong&gt;&lt;a href=\"URL_4\"&gt;TITLE_4...</td>\n",
       "    </tr>\n",
       "    <tr>\n",
       "      <th>4</th>\n",
       "      <td>URL_5</td>\n",
       "      <td>TITLE_5</td>\n",
       "      <td>QUOTE_5</td>\n",
       "      <td>&lt;div dir=\"ltr\"&gt;&lt;strong&gt;&lt;a href=\"URL_5\"&gt;TITLE_5...</td>\n",
       "    </tr>\n",
       "  </tbody>\n",
       "</table>\n",
       "</div>"
      ],
      "text/plain": [
       "     URL    TITLE    QUOTE                                               FULL\n",
       "0  URL_1  TITLE_1  QUOTE_1  <div dir=\"ltr\"><strong><a href=\"URL_1\">TITLE_1...\n",
       "1  URL_2  TITLE_2  QUOTE_2  <div dir=\"ltr\"><strong><a href=\"URL_2\">TITLE_2...\n",
       "2  URL_3  TITLE_3  QUOTE_3  <div dir=\"ltr\"><strong><a href=\"URL_3\">TITLE_3...\n",
       "3  URL_4  TITLE_4  QUOTE_4  <div dir=\"ltr\"><strong><a href=\"URL_4\">TITLE_4...\n",
       "4  URL_5  TITLE_5  QUOTE_5  <div dir=\"ltr\"><strong><a href=\"URL_5\">TITLE_5..."
      ]
     },
     "execution_count": 35,
     "metadata": {},
     "output_type": "execute_result"
    }
   ],
   "source": [
    "df"
   ]
  },
  {
   "cell_type": "code",
   "execution_count": 36,
   "metadata": {},
   "outputs": [
    {
     "name": "stdout",
     "output_type": "stream",
     "text": [
      "<div dir=\"ltr\"><strong><a href=\"URL_1\">TITLE_1</a></strong></div><blockquote><div dir=\"ltr\">QUOTE_1</div></blockquote><div dir=\"ltr\"><strong><a href=\"URL_2\">TITLE_2</a></strong></div><blockquote><div dir=\"ltr\">QUOTE_2</div></blockquote><div dir=\"ltr\"><strong><a href=\"URL_3\">TITLE_3</a></strong></div><blockquote><div dir=\"ltr\">QUOTE_3</div></blockquote><div dir=\"ltr\"><strong><a href=\"URL_4\">TITLE_4</a></strong></div><blockquote><div dir=\"ltr\">QUOTE_4</div></blockquote><div dir=\"ltr\"><strong><a href=\"URL_5\">TITLE_5</a></strong></div><blockquote><div dir=\"ltr\">QUOTE_5</div></blockquote>\n"
     ]
    }
   ],
   "source": [
    "FULL_LINKS = ''.join(df.FULL)\n",
    "print(FULL_LINKS)"
   ]
  },
  {
   "cell_type": "code",
   "execution_count": 37,
   "metadata": {},
   "outputs": [
    {
     "name": "stdout",
     "output_type": "stream",
     "text": [
      "<h1 dir=\"ltr\" style=\"text-align: center;\"><strong>morning assembly</strong></h1><hr /><div dir=\"ltr\"><br /><em>If you’re enjoying Morning Assembly, show your support by forwarding this issue to a friend or share a link to <a href=\"http://tinyletter.com/morningassembly\">tinyletter.com/morningassembly</a>. Reach us by hitting reply to this email or at <a href=\"mailto:assemblyreads@gmail.com\">assemblyreads@gmail.com</a>. We would love to hear from you.</em><br /><br /></div><div dir=\"ltr\"><strong>Yunita:</strong> Hello! I am yuni.<br /><br /></div><div dir=\"ltr\"><strong>Werty:</strong> Hello! I am werty.<br /><br /></div><div dir=\"ltr\"><em>Without further ado, here are some things that captured our Nailed It!-addled brains this week:</em><br /><br /></div><div dir=\"ltr\"><strong><a href=\"URL_1\">TITLE_1</a></strong></div><blockquote><div dir=\"ltr\">QUOTE_1</div></blockquote><div dir=\"ltr\"><strong><a href=\"URL_2\">TITLE_2</a></strong></div><blockquote><div dir=\"ltr\">QUOTE_2</div></blockquote><div dir=\"ltr\"><strong><a href=\"URL_3\">TITLE_3</a></strong></div><blockquote><div dir=\"ltr\">QUOTE_3</div></blockquote><div dir=\"ltr\"><strong><a href=\"URL_4\">TITLE_4</a></strong></div><blockquote><div dir=\"ltr\">QUOTE_4</div></blockquote><div dir=\"ltr\"><strong><a href=\"URL_5\">TITLE_5</a></strong></div><blockquote><div dir=\"ltr\">QUOTE_5</div></blockquote><div dir=\"ltr\"><strong>Until next time,</strong></div><div dir=\"ltr\">Werty and Yuni</div>\n"
     ]
    }
   ],
   "source": [
    "YUNI_TEXT='Hello! I am yuni.'\n",
    "WERTY_TEXT='Hello! I am werty.'\n",
    "ADDLED_TEXT='Nailed It!'\n",
    "\n",
    "final_output = '<h1 dir=\"ltr\" style=\"text-align: center;\"><strong>morning assembly</strong></h1><hr /><div dir=\"ltr\"><br /><em>If you’re enjoying Morning Assembly, show your support by forwarding this issue to a friend or share a link to <a href=\"http://tinyletter.com/morningassembly\">tinyletter.com/morningassembly</a>. Reach us by hitting reply to this email or at <a href=\"mailto:assemblyreads@gmail.com\">assemblyreads@gmail.com</a>. We would love to hear from you.</em><br /><br /></div><div dir=\"ltr\"><strong>Yunita:</strong> '+YUNI_TEXT+'<br /><br /></div><div dir=\"ltr\"><strong>Werty:</strong> '+WERTY_TEXT+'<br /><br /></div><div dir=\"ltr\"><em>Without further ado, here are some things that captured our '+ADDLED_TEXT+'-addled brains this week:</em><br /><br /></div>'+FULL_LINKS+'<div dir=\"ltr\"><strong>Until next time,</strong></div><div dir=\"ltr\">Werty and Yuni</div>'\n",
    "print(final_output)\n",
    "pyperclip.copy(final_output)"
   ]
  }
 ],
 "metadata": {
  "kernelspec": {
   "display_name": "Python 3",
   "language": "python",
   "name": "python3"
  },
  "language_info": {
   "codemirror_mode": {
    "name": "ipython",
    "version": 3
   },
   "file_extension": ".py",
   "mimetype": "text/x-python",
   "name": "python",
   "nbconvert_exporter": "python",
   "pygments_lexer": "ipython3",
   "version": "3.6.5"
  },
  "varInspector": {
   "cols": {
    "lenName": 16,
    "lenType": 16,
    "lenVar": 40
   },
   "kernels_config": {
    "python": {
     "delete_cmd_postfix": "",
     "delete_cmd_prefix": "del ",
     "library": "var_list.py",
     "varRefreshCmd": "print(var_dic_list())"
    },
    "r": {
     "delete_cmd_postfix": ") ",
     "delete_cmd_prefix": "rm(",
     "library": "var_list.r",
     "varRefreshCmd": "cat(var_dic_list()) "
    }
   },
   "types_to_exclude": [
    "module",
    "function",
    "builtin_function_or_method",
    "instance",
    "_Feature"
   ],
   "window_display": false
  }
 },
 "nbformat": 4,
 "nbformat_minor": 2
}
